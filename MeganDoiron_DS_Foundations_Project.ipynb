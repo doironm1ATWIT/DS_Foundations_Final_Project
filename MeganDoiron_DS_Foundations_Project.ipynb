{
 "cells": [
  {
   "cell_type": "code",
   "execution_count": 61,
   "id": "9566fb1a",
   "metadata": {},
   "outputs": [],
   "source": [
    "import numpy as np\n",
    "import pandas as pd\n",
    "\n",
    "\n",
    "#used for test train split\n",
    "from sklearn.model_selection import train_test_split\n",
    "\n",
    "#importing model libraries\n",
    "from sklearn.ensemble import RandomForestClassifier\n",
    "from sklearn import svm\n",
    "from sklearn.ensemble import GradientBoostingClassifier\n",
    "\n",
    "#for accuracy tests\n",
    "from sklearn.metrics import accuracy_score\n",
    "\n",
    "#confusion matrix\n",
    "from sklearn.metrics import confusion_matrix\n",
    "\n",
    "#visualizations\n",
    "import seaborn as sns\n",
    "import matplotlib.pyplot as plt\n",
    "\n",
    "#grid search library\n",
    "from sklearn.model_selection import GridSearchCV\n",
    "from sklearn.model_selection import RandomizedSearchCV"
   ]
  },
  {
   "cell_type": "code",
   "execution_count": 43,
   "id": "828d5de9",
   "metadata": {},
   "outputs": [],
   "source": [
    "df = pd.read_csv('/Users/megandoiron/Desktop/Data Science Foundations/SpotifyData.csv')"
   ]
  },
  {
   "cell_type": "code",
   "execution_count": 44,
   "id": "2c513da5",
   "metadata": {},
   "outputs": [
    {
     "data": {
      "text/plain": [
       "array(['acoustic', 'afrobeat', 'alt-rock', 'alternative', 'ambient',\n",
       "       'anime', 'black-metal', 'bluegrass', 'blues', 'brazil',\n",
       "       'breakbeat', 'british', 'cantopop', 'chicago-house', 'children',\n",
       "       'chill', 'classical', 'club', 'comedy', 'country', 'dance',\n",
       "       'dancehall', 'death-metal', 'deep-house', 'detroit-techno',\n",
       "       'disco', 'disney', 'drum-and-bass', 'dub', 'dubstep', 'edm',\n",
       "       'electro', 'electronic', 'emo', 'folk', 'forro', 'french', 'funk',\n",
       "       'garage', 'german', 'gospel', 'goth', 'grindcore', 'groove',\n",
       "       'grunge', 'guitar', 'happy', 'hard-rock', 'hardcore', 'hardstyle',\n",
       "       'heavy-metal', 'hip-hop', 'honky-tonk', 'house', 'idm', 'indian',\n",
       "       'indie-pop', 'indie', 'industrial', 'iranian', 'j-dance', 'j-idol',\n",
       "       'j-pop', 'j-rock', 'jazz', 'k-pop', 'kids', 'latin', 'latino',\n",
       "       'malay', 'mandopop', 'metal', 'metalcore', 'minimal-techno', 'mpb',\n",
       "       'new-age', 'opera', 'pagode', 'party', 'piano', 'pop-film', 'pop',\n",
       "       'power-pop', 'progressive-house', 'psych-rock', 'punk-rock',\n",
       "       'punk', 'r-n-b', 'reggae', 'reggaeton', 'rock-n-roll', 'rock',\n",
       "       'rockabilly', 'romance', 'sad', 'salsa', 'samba', 'sertanejo',\n",
       "       'show-tunes', 'singer-songwriter', 'ska', 'sleep', 'songwriter',\n",
       "       'soul', 'spanish', 'study', 'swedish', 'synth-pop', 'tango',\n",
       "       'techno', 'trance', 'trip-hop', 'turkish', 'world-music'],\n",
       "      dtype=object)"
      ]
     },
     "execution_count": 44,
     "metadata": {},
     "output_type": "execute_result"
    }
   ],
   "source": [
    "#find out how many datapoints for each genre\n",
    "grouped = df.groupby('track_genre')['track_genre'].count()\n",
    "grouped\n",
    "\n",
    "#see all different genres\n",
    "df['track_genre'].unique()"
   ]
  },
  {
   "cell_type": "code",
   "execution_count": 45,
   "id": "184f1b38",
   "metadata": {},
   "outputs": [],
   "source": [
    "def read_csv_clean_data(path_to_file):\n",
    "    #insert path to file\n",
    "    path = path_to_file\n",
    "    df = pd.read_csv(f'{path}/SpotifyData.csv', index_col = 0)\n",
    "    \n",
    "    #drop unneeded/wanted columns\n",
    "    df = df.drop(columns = ['track_id', 'artists', 'album_name', 'track_name', 'explicit'])\n",
    "    df = df.dropna()\n",
    "    \n",
    "    #shuffle dataset\n",
    "    df = df.sample(frac = 1)\n",
    "    \n",
    "    #select a few genres to work with\n",
    "    df = df[df['track_genre'].isin(['heavy-metal' ,'country', 'pop', 'hip-hop', 'classical'])]\n",
    "    return df"
   ]
  },
  {
   "cell_type": "code",
   "execution_count": 46,
   "id": "8329ffb0",
   "metadata": {},
   "outputs": [
    {
     "name": "stdout",
     "output_type": "stream",
     "text": [
      "<class 'pandas.core.frame.DataFrame'>\n",
      "Int64Index: 5000 entries, 51069 to 16562\n",
      "Data columns (total 15 columns):\n",
      " #   Column            Non-Null Count  Dtype  \n",
      "---  ------            --------------  -----  \n",
      " 0   popularity        5000 non-null   int64  \n",
      " 1   duration_ms       5000 non-null   int64  \n",
      " 2   danceability      5000 non-null   float64\n",
      " 3   energy            5000 non-null   float64\n",
      " 4   key               5000 non-null   int64  \n",
      " 5   loudness          5000 non-null   float64\n",
      " 6   mode              5000 non-null   int64  \n",
      " 7   speechiness       5000 non-null   float64\n",
      " 8   acousticness      5000 non-null   float64\n",
      " 9   instrumentalness  5000 non-null   float64\n",
      " 10  liveness          5000 non-null   float64\n",
      " 11  valence           5000 non-null   float64\n",
      " 12  tempo             5000 non-null   float64\n",
      " 13  time_signature    5000 non-null   int64  \n",
      " 14  track_genre       5000 non-null   object \n",
      "dtypes: float64(9), int64(5), object(1)\n",
      "memory usage: 625.0+ KB\n"
     ]
    }
   ],
   "source": [
    "df = read_csv_clean_data('/Users/megandoiron/Desktop/Data Science Foundations')\n",
    "df.info()"
   ]
  },
  {
   "cell_type": "code",
   "execution_count": 47,
   "id": "1164ddab",
   "metadata": {},
   "outputs": [],
   "source": [
    "#confusion matrix with scikit learn.\n",
    "#model with highest validation (test) score will be best model\n"
   ]
  },
  {
   "cell_type": "code",
   "execution_count": 48,
   "id": "2d268da5",
   "metadata": {},
   "outputs": [],
   "source": [
    "def modeling(model, df):\n",
    "    X = df.drop(columns = 'track_genre')\n",
    "    y = df['track_genre']\n",
    "    Xtrain, Xtest, ytrain, ytest = train_test_split(X, y, test_size = .25, random_state = 0)\n",
    "\n",
    "    model_1 = model\n",
    "\n",
    "    model_1.fit(Xtrain, ytrain)\n",
    "\n",
    "    y_predict = model_1.predict(Xtest)\n",
    "\n",
    "    y_predict_train = model_1.predict(Xtrain)\n",
    "    \n",
    "    print(f'Model Test Accuracy Score: {accuracy_score(ytest, y_predict)}')\n",
    "    \n",
    "    print(f'Model Train Accuracy Score: {accuracy_score(ytrain, y_predict_train)}')\n",
    "    \n",
    "    mat = confusion_matrix(ytest, y_predict)\n",
    "\n",
    "    plt.figure(figsize = (16,5))\n",
    "    sns.heatmap(mat, square=True, annot=True, cbar=False, cmap='YlGnBu') #flag, YlGnBu, jet\n",
    "    plt.xlabel('predicted value')\n",
    "    plt.ylabel('true value');\n",
    "    return y_predict, Xtrain, Xtest, ytrain, ytest"
   ]
  },
  {
   "cell_type": "code",
   "execution_count": 49,
   "id": "9cbf5cf2",
   "metadata": {},
   "outputs": [
    {
     "name": "stdout",
     "output_type": "stream",
     "text": [
      "Model Test Accuracy Score: 0.8648\n",
      "Model Train Accuracy Score: 0.984\n"
     ]
    },
    {
     "data": {
      "image/png": "[encoded data removed]",
      "text/plain": [
       "<Figure size 1152x360 with 1 Axes>"
      ]
     },
     "metadata": {
      "needs_background": "light"
     },
     "output_type": "display_data"
    }
   ],
   "source": [
    "y_predict_randomforest, Xtrain, Xtest, ytrain, ytest= modeling(RandomForestClassifier(), df)"
   ]
  },
  {
   "cell_type": "code",
   "execution_count": 50,
   "id": "553ef4ae",
   "metadata": {},
   "outputs": [
    {
     "name": "stdout",
     "output_type": "stream",
     "text": [
      "Model Test Accuracy Score: 0.3688\n",
      "Model Train Accuracy Score: 0.3624\n"
     ]
    },
    {
     "data": {
      "image/png": "[encoded data removed]",
      "text/plain": [
       "<Figure size 1152x360 with 1 Axes>"
      ]
     },
     "metadata": {
      "needs_background": "light"
     },
     "output_type": "display_data"
    }
   ],
   "source": [
    "y_predict_svc, Xtrain, Xtest, ytrain, ytest = modeling(svm.SVC(), df)"
   ]
  },
  {
   "cell_type": "code",
   "execution_count": 55,
   "id": "0820350a",
   "metadata": {},
   "outputs": [
    {
     "name": "stdout",
     "output_type": "stream",
     "text": [
      "Model Test Accuracy Score: 0.8624\n",
      "Model Train Accuracy Score: 0.9426666666666667\n"
     ]
    },
    {
     "data": {
      "image/png": "[encoded data removed]",
      "text/plain": [
       "<Figure size 1152x360 with 1 Axes>"
      ]
     },
     "metadata": {
      "needs_background": "light"
     },
     "output_type": "display_data"
    }
   ],
   "source": [
    "y_predict_gradientboosting, Xtrain, Xtest, ytrain, ytest = modeling(GradientBoostingClassifier(), df)"
   ]
  },
  {
   "cell_type": "code",
   "execution_count": 56,
   "id": "e4889c99",
   "metadata": {},
   "outputs": [],
   "source": [
    "def grid_search(model, params, Xtrain, ytrain, Xtest, ytest):\n",
    "    \n",
    "    params_grid= params\n",
    "    \n",
    "    grid = GridSearchCV(model, params_grid, cv = 5)\n",
    "    \n",
    "    grid.fit(Xtrain, ytrain)\n",
    "    print(f'Best params: {grid.best_params_}')\n",
    "    \n",
    "    y_predict = grid.predict(Xtest)\n",
    "    print(f'Test Accuracy Score: {accuracy_score(y_predict, ytest)}')\n",
    "    return y_predict"
   ]
  },
  {
   "cell_type": "code",
   "execution_count": 57,
   "id": "dc7a92e9",
   "metadata": {},
   "outputs": [
    {
     "name": "stdout",
     "output_type": "stream",
     "text": [
      "Best params: {'max_depth': 30, 'min_samples_split': 5, 'n_estimators': 500, 'random_state': 0}\n",
      "Test Accuracy Score: 0.8688\n"
     ]
    }
   ],
   "source": [
    "y_predict_rf = grid_search(RandomForestClassifier(),{\n",
    "    'n_estimators'     : [100, 300, 500],\n",
    "    'max_depth'        : [5, 15, 30],\n",
    "    'min_samples_split': [5, 15, 100],\n",
    "    'random_state'     : [0]}, \n",
    "                Xtrain, ytrain, Xtest, ytest )"
   ]
  },
  {
   "cell_type": "code",
   "execution_count": 58,
   "id": "895d9483",
   "metadata": {},
   "outputs": [
    {
     "name": "stdout",
     "output_type": "stream",
     "text": [
      "Best params: {'learning_rate': 0.5, 'min_samples_split': 5, 'n_estimators': 100, 'random_state': 0}\n",
      "Test Accuracy Score: 0.8672\n"
     ]
    }
   ],
   "source": [
    "y_predict_gb = grid_search(GradientBoostingClassifier(), \n",
    "                        {'learning_rate': [1, 0.5, .01], \n",
    "                         'n_estimators': [50, 100, 200],\n",
    "                         'random_state' : [0],\n",
    "                         'min_samples_split': [2, 5, 10]}, Xtrain, ytrain, Xtest, ytest)"
   ]
  },
  {
   "cell_type": "code",
   "execution_count": 62,
   "id": "18ce8aaa",
   "metadata": {},
   "outputs": [],
   "source": [
    "def random_search(model, params, Xtrain, ytrain, Xtest, ytest):\n",
    "    params_list = params\n",
    "    \n",
    "    random = RandomizedSearchCV(model, params_list, cv = 5)\n",
    "    \n",
    "    random.fit(Xtrain, ytrain)\n",
    "    print(f'Best params: {random.best_params_}')\n",
    "    \n",
    "    y_predict = random.predict(Xtest)\n",
    "    print(f'Test Accuracy Score: {accuracy_score(y_predict, ytest)}')\n",
    "    return y_predict"
   ]
  },
  {
   "cell_type": "code",
   "execution_count": 65,
   "id": "d1436778",
   "metadata": {},
   "outputs": [
    {
     "name": "stdout",
     "output_type": "stream",
     "text": [
      "Best params: {'random_state': 0, 'n_estimators': 500, 'min_samples_split': 5, 'min_samples_leaf': 1, 'max_features': 'sqrt', 'max_depth': None, 'bootstrap': False}\n",
      "Test Accuracy Score: 0.8768\n"
     ]
    }
   ],
   "source": [
    "y_predict_rs_rf = random_search(RandomForestClassifier(), {'bootstrap': [True, False], \n",
    "              'max_depth': [10, 50, 100, None],\n",
    "              'max_features': ['auto', 'sqrt'],\n",
    "              'min_samples_leaf': [1, 2, 4],\n",
    "              'min_samples_split': [2, 5, 10],\n",
    "              'n_estimators': [100, 500, 1000],\n",
    "              'random_state': [0]\n",
    "             }, Xtrain, ytrain, Xtest, ytest)"
   ]
  },
  {
   "cell_type": "code",
   "execution_count": 67,
   "id": "36e1146a",
   "metadata": {},
   "outputs": [
    {
     "name": "stdout",
     "output_type": "stream",
     "text": [
      "Best params: {'random_state': 0, 'n_estimators': 500, 'min_samples_split': 10, 'min_samples_leaf': 2, 'max_features': 'auto', 'learning_rate': 0.5}\n",
      "Test Accuracy Score: 0.8648\n"
     ]
    }
   ],
   "source": [
    "y_predict_rs_gb = random_search(GradientBoostingClassifier(), {'learning_rate': [1, 0.5, .1, .01], \n",
    "              'n_estimators': [50, 100, 200],\n",
    "              'max_features': ['auto', 'sqrt'],\n",
    "              'min_samples_leaf': [1, 2, 4],\n",
    "              'min_samples_split': [2, 5, 10],\n",
    "              'n_estimators': [100, 500, 1000],\n",
    "              'random_state': [0]\n",
    "             }, Xtrain, ytrain, Xtest, ytest)"
   ]
  },
  {
   "cell_type": "code",
   "execution_count": null,
   "id": "2b4fcb1b",
   "metadata": {},
   "outputs": [],
   "source": []
  }
 ],
 "metadata": {
  "kernelspec": {
   "display_name": "Python 3 (ipykernel)",
   "language": "python",
   "name": "python3"
  },
  "language_info": {
   "codemirror_mode": {
    "name": "ipython",
    "version": 3
   },
   "file_extension": ".py",
   "mimetype": "text/x-python",
   "name": "python",
   "nbconvert_exporter": "python",
   "pygments_lexer": "ipython3",
   "version": "3.9.12"
  }
 },
 "nbformat": 4,
 "nbformat_minor": 5
}
